{
 "cells": [
  {
   "cell_type": "markdown",
   "metadata": {},
   "source": [
    "![ine-divider](https://user-images.githubusercontent.com/7065401/92672068-398e8080-f2ee-11ea-82d6-ad53f7feb5c0.png)\n",
    "<hr>\n",
    "\n",
    "### HTTP using Python\n",
    "\n",
    "# Creating Web Servers\n",
    "\n",
    "This project will have you create a web servers with some special functionality, built incrementally.  For the project, you will use the Flask framework, which is more modern and flexible than the standard libary module."
   ]
  },
  {
   "cell_type": "markdown",
   "metadata": {},
   "source": [
    "![orange-divider](https://user-images.githubusercontent.com/7065401/92672455-187a5f80-f2ef-11ea-890c-40be9474f7b7.png)"
   ]
  },
  {
   "cell_type": "markdown",
   "metadata": {},
   "source": [
    "## Part 1\n",
    "\n",
    "**Browse file paths**\n",
    "\n",
    "The `http.server` libary had a zero-configuration mode where it could simply act as a file browser of a local directory, allowing that to be served remotely as well.  We would like to implement something analogous in Flask.  Each file in the local directory should be shown as a name and a link, and viewers should return files with an appropriate file type.\n",
    "\n",
    "In evaluating your server, you will probably wish to point a regular web browser to it, and navigate dynamically, rather than only making code requests against the server.  Since this server will accept paths matching files that may be dynamically created, you should read about [URL Route Registrations](https://flask.palletsprojects.com/en/2.0.x/api/#url-route-registrations) to understand how this is possible.\n",
    "\n",
    "For illustration, however, here are some possible behaviors, shown in this notebook.\n",
    "\n",
    "```python\n",
    ">>> resp = requests.get('http://localhost:2553/bad/filepath')\n",
    ">>> resp.text\n",
    "'bad/filepath is not a file path!'\n",
    "```\n",
    "\n",
    "```python\n",
    ">>> resp = requests.get('http://localhost:2553/data/3001.json')\n",
    ">>> for k, v in resp.headers.items():\n",
    "...     print(f\"{k}: {v}\")\n",
    "Content-Disposition: inline; filename=3001.json\n",
    "Content-Type: application/json\n",
    "Content-Length: 285\n",
    "Last-Modified: Wed, 16 Jun 2021 17:36:55 GMT\n",
    "Date: Wed, 16 Jun 2021 19:33:16 GMT\n",
    "\n",
    ">>> json.loads(resp.text)\n",
    "{'1': {'name': 'Guido van Rossum',\n",
    "  'password': 'unladenswallow',\n",
    "  'details': {'profession': 'ex-BDFL'}},\n",
    " '2': {'name': 'Brendan Eich',\n",
    "  'password': 'nontransitiveequality',\n",
    "  'details': {'profession': 'Mozillan'}},\n",
    " '3': {'name': 'Ken Thompson',\n",
    "  'password': 'p/q2-q4!',\n",
    "  'details': {'profession': 'Unix Creator'}}}\n",
    "```\n",
    "\n",
    "```python\n",
    ">>> from IPython.core.display import HTML\n",
    ">>> resp = requests.get('http://localhost:2553/images/')\n",
    ">>> HTML(resp.text)\n",
    "```\n",
    "<h2>Tree from directory images/</h2>\n",
    "<pre>\n",
    "├── <a href=\"images/rainbow-butterfly-unicorn-kitten.jpg\">rainbow-butterfly-unicorn-kitten.jpg</a>\n",
    "└── <a href=\"images/cannot-brain.jpg\">cannot-brain.jpg</a>\n",
    "</pre>\n",
    "\n",
    "```python\n",
    ">>> resp = requests.get('http://localhost:2553/images/cannot-brain.jpg')\n",
    ">>> for k, v in resp.headers.items():\n",
    "...     print(f\"{k}: {v}\")\n",
    "Content-Disposition: inline; filename=cannot-brain.jpg\n",
    "Content-Type: image/jpeg\n",
    "Content-Length: 23058\n",
    "Last-Modified: Wed, 16 Jun 2021 17:40:19 GMT\n",
    "Cache-Control: no-cache\n",
    "Date: Wed, 16 Jun 2021 19:36:08 GMT\n",
    "```"
   ]
  },
  {
   "cell_type": "code",
   "execution_count": 2,
   "metadata": {},
   "outputs": [],
   "source": [
    "# your code goes here\n"
   ]
  },
  {
   "cell_type": "markdown",
   "metadata": {},
   "source": [
    "![orange-divider](https://user-images.githubusercontent.com/7065401/92672455-187a5f80-f2ef-11ea-890c-40be9474f7b7.png)"
   ]
  },
  {
   "cell_type": "markdown",
   "metadata": {},
   "source": [
    "## Part 2\n",
    "\n",
    "**Display file metadata**\n",
    "\n",
    "Under Unix-like systems, we might find the size of all the files within a directory hierarchy with a command such as this:\n",
    "\n",
    "```bash\n",
    "$ find . -type f | xargs du -b\n",
    "9405    ./psf-logo.png\n",
    "1969    ./server-solution.py\n",
    "214     ./hello.html\n",
    "375     ./greetings.txt\n",
    "285     ./data/3001.json\n",
    "5469    ./data/olympic-medals.csv\n",
    "604     ./data/example.yaml\n",
    "24706   ./images/rainbow-butterfly-unicorn-kitten.jpg\n",
    "23058   ./images/cannot-brain.jpg\n",
    "```\n",
    "\n",
    "For this task, you should add an additional route within the **same** server your wrote in the first part, which will return a JSON representation of this information.  Use the route `/file-sizes` to retrieve this information; note that if a file called `file-sizes` existed, this would create an ambiguigy, but for this purpose simply assume that such file does not exist.\n",
    "\n",
    "A working version might behave like:\n",
    "\n",
    "```python\n",
    ">>> resp = requests.get('http://localhost:2553/file-sizes')\n",
    ">>> json.loads(resp.text)\n",
    "{'./data/3001.json': 285,\n",
    " './data/example.yaml': 604,\n",
    " './data/olympic-medals.csv': 5469,\n",
    " './greetings.txt': 375,\n",
    " './hello.html': 214,\n",
    " './images/cannot-brain.jpg': 23058,\n",
    " './images/rainbow-butterfly-unicorn-kitten.jpg': 24706,\n",
    " './psf-logo.png': 9405,\n",
    " './server-solution.py': 2340}\n",
    "```"
   ]
  },
  {
   "cell_type": "code",
   "execution_count": 1,
   "metadata": {},
   "outputs": [],
   "source": [
    "# your code goes here\n"
   ]
  },
  {
   "cell_type": "markdown",
   "metadata": {},
   "source": [
    "![orange-divider](https://user-images.githubusercontent.com/7065401/92672455-187a5f80-f2ef-11ea-890c-40be9474f7b7.png)"
   ]
  }
 ],
 "metadata": {
  "kernelspec": {
   "display_name": "Python 3",
   "language": "python",
   "name": "python3"
  },
  "language_info": {
   "codemirror_mode": {
    "name": "ipython",
    "version": 3
   },
   "file_extension": ".py",
   "mimetype": "text/x-python",
   "name": "python",
   "nbconvert_exporter": "python",
   "pygments_lexer": "ipython3",
   "version": "3.8.6"
  }
 },
 "nbformat": 4,
 "nbformat_minor": 4
}
